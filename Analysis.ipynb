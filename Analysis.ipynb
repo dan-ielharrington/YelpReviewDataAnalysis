{
 "cells": [
  {
   "cell_type": "markdown",
   "id": "2343d814",
   "metadata": {},
   "source": [
    "# Analyzing Yelp Business Intelligence Data\n",
    "***\n",
    "Daniel Harrington  \n",
    "Project 2  \n",
    "April 14, 2022  \n",
    "CIS 9760  \n",
    "***"
   ]
  },
  {
   "cell_type": "markdown",
   "id": "e115b30e",
   "metadata": {},
   "source": [
    "## Part I: Installation and Initial Setup\n",
    "***"
   ]
  },
  {
   "cell_type": "code",
   "execution_count": 1,
   "id": "991e51e2",
   "metadata": {
    "scrolled": true
   },
   "outputs": [
    {
     "data": {
      "application/vnd.jupyter.widget-view+json": {
       "model_id": "8ec012c0a5c444c8945065ede4baea3a",
       "version_major": 2,
       "version_minor": 0
      },
      "text/plain": [
       "VBox()"
      ]
     },
     "metadata": {},
     "output_type": "display_data"
    },
    {
     "name": "stdout",
     "output_type": "stream",
     "text": [
      "Starting Spark application\n"
     ]
    },
    {
     "data": {
      "text/html": [
       "<table>\n",
       "<tr><th>ID</th><th>YARN Application ID</th><th>Kind</th><th>State</th><th>Spark UI</th><th>Driver log</th><th>Current session?</th></tr><tr><td>0</td><td>application_1651258864369_0001</td><td>pyspark</td><td>idle</td><td><a target=\"_blank\" href=\"http://ip-172-31-13-172.us-east-2.compute.internal:20888/proxy/application_1651258864369_0001/\">Link</a></td><td><a target=\"_blank\" href=\"http://ip-172-31-5-248.us-east-2.compute.internal:8042/node/containerlogs/container_1651258864369_0001_01_000001/livy\">Link</a></td><td>✔</td></tr></table>"
      ],
      "text/plain": [
       "<IPython.core.display.HTML object>"
      ]
     },
     "metadata": {},
     "output_type": "display_data"
    },
    {
     "data": {
      "application/vnd.jupyter.widget-view+json": {
       "model_id": "",
       "version_major": 2,
       "version_minor": 0
      },
      "text/plain": [
       "FloatProgress(value=0.0, bar_style='info', description='Progress:', layout=Layout(height='25px', width='50%'),…"
      ]
     },
     "metadata": {},
     "output_type": "display_data"
    },
    {
     "name": "stdout",
     "output_type": "stream",
     "text": [
      "SparkSession available as 'spark'.\n"
     ]
    },
    {
     "data": {
      "application/vnd.jupyter.widget-view+json": {
       "model_id": "",
       "version_major": 2,
       "version_minor": 0
      },
      "text/plain": [
       "FloatProgress(value=0.0, bar_style='info', description='Progress:', layout=Layout(height='25px', width='50%'),…"
      ]
     },
     "metadata": {},
     "output_type": "display_data"
    },
    {
     "name": "stdout",
     "output_type": "stream",
     "text": [
      "Collecting pandas==1.0.3\n",
      "  Downloading https://files.pythonhosted.org/packages/4a/6a/94b219b8ea0f2d580169e85ed1edc0163743f55aaeca8a44c2e8fc1e344e/pandas-1.0.3-cp37-cp37m-manylinux1_x86_64.whl (10.0MB)\n",
      "Requirement already satisfied: pytz>=2017.2 in /usr/local/lib/python3.7/site-packages (from pandas==1.0.3)\n",
      "Requirement already satisfied: numpy>=1.13.3 in /usr/local/lib64/python3.7/site-packages (from pandas==1.0.3)\n",
      "Collecting python-dateutil>=2.6.1 (from pandas==1.0.3)\n",
      "  Downloading https://files.pythonhosted.org/packages/36/7a/87837f39d0296e723bb9b62bbb257d0355c7f6128853c78955f57342a56d/python_dateutil-2.8.2-py2.py3-none-any.whl (247kB)\n",
      "Requirement already satisfied: six>=1.5 in /usr/local/lib/python3.7/site-packages (from python-dateutil>=2.6.1->pandas==1.0.3)\n",
      "Installing collected packages: python-dateutil, pandas\n",
      "Successfully installed pandas-1.0.3 python-dateutil-2.8.2\n",
      "\n",
      "Collecting matplotlib==3.2.1\n",
      "  Downloading https://files.pythonhosted.org/packages/b2/c2/71fcf957710f3ba1f09088b35776a799ba7dd95f7c2b195ec800933b276b/matplotlib-3.2.1-cp37-cp37m-manylinux1_x86_64.whl (12.4MB)\n",
      "Requirement already satisfied: python-dateutil>=2.1 in /mnt/tmp/1651259711239-0/lib/python3.7/site-packages (from matplotlib==3.2.1)\n",
      "Collecting pyparsing!=2.0.4,!=2.1.2,!=2.1.6,>=2.0.1 (from matplotlib==3.2.1)\n",
      "  Downloading https://files.pythonhosted.org/packages/d9/41/d9cfb4410589805cd787f8a82cddd13142d9bf7449d12adf2d05a4a7d633/pyparsing-3.0.8-py3-none-any.whl (98kB)\n",
      "Collecting cycler>=0.10 (from matplotlib==3.2.1)\n",
      "  Downloading https://files.pythonhosted.org/packages/5c/f9/695d6bedebd747e5eb0fe8fad57b72fdf25411273a39791cde838d5a8f51/cycler-0.11.0-py3-none-any.whl\n",
      "Requirement already satisfied: numpy>=1.11 in /usr/local/lib64/python3.7/site-packages (from matplotlib==3.2.1)\n",
      "Collecting kiwisolver>=1.0.1 (from matplotlib==3.2.1)\n",
      "  Downloading https://files.pythonhosted.org/packages/51/50/9a9a94afa26c50fc5d9127272737806990aa698c7a1c220b8e5075e70304/kiwisolver-1.4.2-cp37-cp37m-manylinux_2_5_x86_64.manylinux1_x86_64.whl (1.1MB)\n",
      "Requirement already satisfied: six>=1.5 in /usr/local/lib/python3.7/site-packages (from python-dateutil>=2.1->matplotlib==3.2.1)\n",
      "Collecting typing-extensions; python_version < \"3.8\" (from kiwisolver>=1.0.1->matplotlib==3.2.1)\n",
      "  Downloading https://files.pythonhosted.org/packages/75/e1/932e06004039dd670c9d5e1df0cd606bf46e29a28e65d5bb28e894ea29c9/typing_extensions-4.2.0-py3-none-any.whl\n",
      "Installing collected packages: pyparsing, cycler, typing-extensions, kiwisolver, matplotlib\n",
      "Successfully installed cycler-0.11.0 kiwisolver-1.4.2 matplotlib-3.2.1 pyparsing-3.0.8 typing-extensions-4.2.0"
     ]
    }
   ],
   "source": [
    "sc.install_pypi_package(\"pandas==1.0.3\")\n",
    "sc.install_pypi_package(\"matplotlib==3.2.1\")"
   ]
  },
  {
   "cell_type": "code",
   "execution_count": 2,
   "id": "68cd877a",
   "metadata": {},
   "outputs": [
    {
     "data": {
      "application/vnd.jupyter.widget-view+json": {
       "model_id": "3387dd6f644f4553a5b1872e7cba1da3",
       "version_major": 2,
       "version_minor": 0
      },
      "text/plain": [
       "VBox()"
      ]
     },
     "metadata": {},
     "output_type": "display_data"
    },
    {
     "data": {
      "application/vnd.jupyter.widget-view+json": {
       "model_id": "",
       "version_major": 2,
       "version_minor": 0
      },
      "text/plain": [
       "FloatProgress(value=0.0, bar_style='info', description='Progress:', layout=Layout(height='25px', width='50%'),…"
      ]
     },
     "metadata": {},
     "output_type": "display_data"
    }
   ],
   "source": [
    "import pandas as pd\n",
    "import numpy as np\n",
    "import matplotlib.pyplot as plt\n",
    "from pyspark.sql.functions import *"
   ]
  },
  {
   "cell_type": "markdown",
   "id": "279998af",
   "metadata": {},
   "source": [
    "### Loading Datasets from S3\n",
    "***"
   ]
  },
  {
   "cell_type": "code",
   "execution_count": 3,
   "id": "d89117d7",
   "metadata": {},
   "outputs": [
    {
     "data": {
      "application/vnd.jupyter.widget-view+json": {
       "model_id": "7858cd82a64e4e658f2301e41311b336",
       "version_major": 2,
       "version_minor": 0
      },
      "text/plain": [
       "VBox()"
      ]
     },
     "metadata": {},
     "output_type": "display_data"
    },
    {
     "data": {
      "application/vnd.jupyter.widget-view+json": {
       "model_id": "",
       "version_major": 2,
       "version_minor": 0
      },
      "text/plain": [
       "FloatProgress(value=0.0, bar_style='info', description='Progress:', layout=Layout(height='25px', width='50%'),…"
      ]
     },
     "metadata": {},
     "output_type": "display_data"
    }
   ],
   "source": [
    "business = spark.read.json('s3://harringtondaniel/yelpReviews/yelp_academic_dataset_business.json')\n",
    "review = spark.read.json('s3://harringtondaniel/yelpReviews/yelp_academic_dataset_review.json')\n",
    "user = spark.read.json('s3://harringtondaniel/yelpReviews/yelp_academic_dataset_user.json')"
   ]
  },
  {
   "cell_type": "markdown",
   "id": "85f70f73",
   "metadata": {},
   "source": [
    "#### First Five Rows of the Business Dataset\n",
    "***"
   ]
  },
  {
   "cell_type": "code",
   "execution_count": 4,
   "id": "2052a564",
   "metadata": {},
   "outputs": [
    {
     "data": {
      "application/vnd.jupyter.widget-view+json": {
       "model_id": "53f1fa334e01408eb10d2475b5853d0a",
       "version_major": 2,
       "version_minor": 0
      },
      "text/plain": [
       "VBox()"
      ]
     },
     "metadata": {},
     "output_type": "display_data"
    },
    {
     "data": {
      "application/vnd.jupyter.widget-view+json": {
       "model_id": "",
       "version_major": 2,
       "version_minor": 0
      },
      "text/plain": [
       "FloatProgress(value=0.0, bar_style='info', description='Progress:', layout=Layout(height='25px', width='50%'),…"
      ]
     },
     "metadata": {},
     "output_type": "display_data"
    },
    {
     "name": "stdout",
     "output_type": "stream",
     "text": [
      "+--------------------+--------------------+--------------------+--------------------+-------------+--------------------+-------+----------+------------+--------------------+-----------+------------+-----+-----+\n",
      "|             address|          attributes|         business_id|          categories|         city|               hours|is_open|  latitude|   longitude|                name|postal_code|review_count|stars|state|\n",
      "+--------------------+--------------------+--------------------+--------------------+-------------+--------------------+-------+----------+------------+--------------------+-----------+------------+-----+-----+\n",
      "|1616 Chapala St, ...|[,,,,,,,,,,, True...|Pns2l4eNsfO8kk83d...|Doctors, Traditio...|Santa Barbara|                null|      0|34.4266787|-119.7111968|Abby Rappoport, L...|      93101|           7|  5.0|   CA|\n",
      "|87 Grasso Plaza S...|[,,,,,,,,, True,,...|mpf3x-BjTdTEA3yCZ...|Shipping Centers,...|       Affton|[8:0-18:30, 0:0-0...|      1| 38.551126|  -90.335695|       The UPS Store|      63123|          15|  3.0|   MO|\n",
      "|5255 E Broadway Blvd|[,,,,,,, True,, T...|tUFrWirKiKi_TAnsV...|Department Stores...|       Tucson|[8:0-23:0, 8:0-22...|      0| 32.223236| -110.880452|              Target|      85711|          22|  3.5|   AZ|\n",
      "|         935 Race St|[,, u'none',,,,, ...|MTSW4McQd7CbVtyjq...|Restaurants, Food...| Philadelphia|[7:0-21:0, 7:0-20...|      1|39.9555052| -75.1555641|  St Honore Pastries|      19107|          80|  4.0|   PA|\n",
      "|       101 Walnut St|[,,,,,,, True,, T...|mWMc6_wTdE0EUBKIG...|Brewpubs, Breweri...|   Green Lane|[12:0-22:0,, 12:0...|      1|40.3381827| -75.4716585|Perkiomen Valley ...|      18054|          13|  4.5|   PA|\n",
      "+--------------------+--------------------+--------------------+--------------------+-------------+--------------------+-------+----------+------------+--------------------+-----------+------------+-----+-----+\n",
      "only showing top 5 rows"
     ]
    }
   ],
   "source": [
    "business.show(5)"
   ]
  },
  {
   "cell_type": "markdown",
   "id": "72548c5a",
   "metadata": {},
   "source": [
    "### Overview of Data\n",
    "***"
   ]
  },
  {
   "cell_type": "code",
   "execution_count": 5,
   "id": "4285c014",
   "metadata": {},
   "outputs": [
    {
     "data": {
      "application/vnd.jupyter.widget-view+json": {
       "model_id": "2a494b5b550a4860aab0a1e84dd385ac",
       "version_major": 2,
       "version_minor": 0
      },
      "text/plain": [
       "VBox()"
      ]
     },
     "metadata": {},
     "output_type": "display_data"
    },
    {
     "data": {
      "application/vnd.jupyter.widget-view+json": {
       "model_id": "",
       "version_major": 2,
       "version_minor": 0
      },
      "text/plain": [
       "FloatProgress(value=0.0, bar_style='info', description='Progress:', layout=Layout(height='25px', width='50%'),…"
      ]
     },
     "metadata": {},
     "output_type": "display_data"
    },
    {
     "name": "stdout",
     "output_type": "stream",
     "text": [
      "The number of columns in the Business table is: 14\n",
      "The number of rows in the Business table is: 150346"
     ]
    }
   ],
   "source": [
    "length = str(len(business.columns))\n",
    "row_count = str(business.count())\n",
    "print(\"The number of columns in the Business table is: \" + length) \n",
    "print(\"The number of rows in the Business table is: \" + row_count)"
   ]
  },
  {
   "cell_type": "markdown",
   "id": "6e46ba3e",
   "metadata": {},
   "source": [
    "#### Display DataFrame Schema\n",
    "***"
   ]
  },
  {
   "cell_type": "code",
   "execution_count": 6,
   "id": "2caa27be",
   "metadata": {},
   "outputs": [
    {
     "data": {
      "application/vnd.jupyter.widget-view+json": {
       "model_id": "00da832f6bad489f9e3aed91ad41e41d",
       "version_major": 2,
       "version_minor": 0
      },
      "text/plain": [
       "VBox()"
      ]
     },
     "metadata": {},
     "output_type": "display_data"
    },
    {
     "data": {
      "application/vnd.jupyter.widget-view+json": {
       "model_id": "",
       "version_major": 2,
       "version_minor": 0
      },
      "text/plain": [
       "FloatProgress(value=0.0, bar_style='info', description='Progress:', layout=Layout(height='25px', width='50%'),…"
      ]
     },
     "metadata": {},
     "output_type": "display_data"
    },
    {
     "name": "stdout",
     "output_type": "stream",
     "text": [
      "root\n",
      " |-- address: string (nullable = true)\n",
      " |-- attributes: struct (nullable = true)\n",
      " |    |-- AcceptsInsurance: string (nullable = true)\n",
      " |    |-- AgesAllowed: string (nullable = true)\n",
      " |    |-- Alcohol: string (nullable = true)\n",
      " |    |-- Ambience: string (nullable = true)\n",
      " |    |-- BYOB: string (nullable = true)\n",
      " |    |-- BYOBCorkage: string (nullable = true)\n",
      " |    |-- BestNights: string (nullable = true)\n",
      " |    |-- BikeParking: string (nullable = true)\n",
      " |    |-- BusinessAcceptsBitcoin: string (nullable = true)\n",
      " |    |-- BusinessAcceptsCreditCards: string (nullable = true)\n",
      " |    |-- BusinessParking: string (nullable = true)\n",
      " |    |-- ByAppointmentOnly: string (nullable = true)\n",
      " |    |-- Caters: string (nullable = true)\n",
      " |    |-- CoatCheck: string (nullable = true)\n",
      " |    |-- Corkage: string (nullable = true)\n",
      " |    |-- DietaryRestrictions: string (nullable = true)\n",
      " |    |-- DogsAllowed: string (nullable = true)\n",
      " |    |-- DriveThru: string (nullable = true)\n",
      " |    |-- GoodForDancing: string (nullable = true)\n",
      " |    |-- GoodForKids: string (nullable = true)\n",
      " |    |-- GoodForMeal: string (nullable = true)\n",
      " |    |-- HairSpecializesIn: string (nullable = true)\n",
      " |    |-- HappyHour: string (nullable = true)\n",
      " |    |-- HasTV: string (nullable = true)\n",
      " |    |-- Music: string (nullable = true)\n",
      " |    |-- NoiseLevel: string (nullable = true)\n",
      " |    |-- Open24Hours: string (nullable = true)\n",
      " |    |-- OutdoorSeating: string (nullable = true)\n",
      " |    |-- RestaurantsAttire: string (nullable = true)\n",
      " |    |-- RestaurantsCounterService: string (nullable = true)\n",
      " |    |-- RestaurantsDelivery: string (nullable = true)\n",
      " |    |-- RestaurantsGoodForGroups: string (nullable = true)\n",
      " |    |-- RestaurantsPriceRange2: string (nullable = true)\n",
      " |    |-- RestaurantsReservations: string (nullable = true)\n",
      " |    |-- RestaurantsTableService: string (nullable = true)\n",
      " |    |-- RestaurantsTakeOut: string (nullable = true)\n",
      " |    |-- Smoking: string (nullable = true)\n",
      " |    |-- WheelchairAccessible: string (nullable = true)\n",
      " |    |-- WiFi: string (nullable = true)\n",
      " |-- business_id: string (nullable = true)\n",
      " |-- categories: string (nullable = true)\n",
      " |-- city: string (nullable = true)\n",
      " |-- hours: struct (nullable = true)\n",
      " |    |-- Friday: string (nullable = true)\n",
      " |    |-- Monday: string (nullable = true)\n",
      " |    |-- Saturday: string (nullable = true)\n",
      " |    |-- Sunday: string (nullable = true)\n",
      " |    |-- Thursday: string (nullable = true)\n",
      " |    |-- Tuesday: string (nullable = true)\n",
      " |    |-- Wednesday: string (nullable = true)\n",
      " |-- is_open: long (nullable = true)\n",
      " |-- latitude: double (nullable = true)\n",
      " |-- longitude: double (nullable = true)\n",
      " |-- name: string (nullable = true)\n",
      " |-- postal_code: string (nullable = true)\n",
      " |-- review_count: long (nullable = true)\n",
      " |-- stars: double (nullable = true)\n",
      " |-- state: string (nullable = true)"
     ]
    }
   ],
   "source": [
    "business.printSchema()"
   ]
  },
  {
   "cell_type": "markdown",
   "id": "08eefe32",
   "metadata": {},
   "source": [
    "#### First Five Rows from Specific Columns\n",
    "***"
   ]
  },
  {
   "cell_type": "code",
   "execution_count": 7,
   "id": "879f087c",
   "metadata": {},
   "outputs": [
    {
     "data": {
      "application/vnd.jupyter.widget-view+json": {
       "model_id": "0e4992b6af014bb0bdf179b5bb31b60a",
       "version_major": 2,
       "version_minor": 0
      },
      "text/plain": [
       "VBox()"
      ]
     },
     "metadata": {},
     "output_type": "display_data"
    },
    {
     "data": {
      "application/vnd.jupyter.widget-view+json": {
       "model_id": "",
       "version_major": 2,
       "version_minor": 0
      },
      "text/plain": [
       "FloatProgress(value=0.0, bar_style='info', description='Progress:', layout=Layout(height='25px', width='50%'),…"
      ]
     },
     "metadata": {},
     "output_type": "display_data"
    },
    {
     "name": "stdout",
     "output_type": "stream",
     "text": [
      "+--------------------+--------------------+-------------+-----+--------------------+\n",
      "|         business_id|                name|         city|state|          categories|\n",
      "+--------------------+--------------------+-------------+-----+--------------------+\n",
      "|Pns2l4eNsfO8kk83d...|Abby Rappoport, L...|Santa Barbara|   CA|Doctors, Traditio...|\n",
      "|mpf3x-BjTdTEA3yCZ...|       The UPS Store|       Affton|   MO|Shipping Centers,...|\n",
      "|tUFrWirKiKi_TAnsV...|              Target|       Tucson|   AZ|Department Stores...|\n",
      "|MTSW4McQd7CbVtyjq...|  St Honore Pastries| Philadelphia|   PA|Restaurants, Food...|\n",
      "|mWMc6_wTdE0EUBKIG...|Perkiomen Valley ...|   Green Lane|   PA|Brewpubs, Breweri...|\n",
      "+--------------------+--------------------+-------------+-----+--------------------+\n",
      "only showing top 5 rows"
     ]
    }
   ],
   "source": [
    "overview_five = business.select(\"business_id\", \"name\", \"city\", \"state\", \"categories\")\n",
    "overview_five.show(5)"
   ]
  },
  {
   "cell_type": "markdown",
   "id": "0aa99042",
   "metadata": {},
   "source": [
    "## Part II: Analyzing Categories\n",
    "***\n",
    "The first five rows of the Business dataset are displayed below (prior to creating an Association Table)  \n",
    "Additional necessary libraries were imported at the beginning of the notebook file."
   ]
  },
  {
   "cell_type": "code",
   "execution_count": 8,
   "id": "ca3d5c99",
   "metadata": {},
   "outputs": [
    {
     "data": {
      "application/vnd.jupyter.widget-view+json": {
       "model_id": "4f478a3dcaa04f2ab0beb8f4c2412c1d",
       "version_major": 2,
       "version_minor": 0
      },
      "text/plain": [
       "VBox()"
      ]
     },
     "metadata": {},
     "output_type": "display_data"
    },
    {
     "data": {
      "application/vnd.jupyter.widget-view+json": {
       "model_id": "",
       "version_major": 2,
       "version_minor": 0
      },
      "text/plain": [
       "FloatProgress(value=0.0, bar_style='info', description='Progress:', layout=Layout(height='25px', width='50%'),…"
      ]
     },
     "metadata": {},
     "output_type": "display_data"
    },
    {
     "name": "stdout",
     "output_type": "stream",
     "text": [
      "+--------------------+--------------------+\n",
      "|         business_id|          categories|\n",
      "+--------------------+--------------------+\n",
      "|Pns2l4eNsfO8kk83d...|Doctors, Traditio...|\n",
      "|mpf3x-BjTdTEA3yCZ...|Shipping Centers,...|\n",
      "|tUFrWirKiKi_TAnsV...|Department Stores...|\n",
      "|MTSW4McQd7CbVtyjq...|Restaurants, Food...|\n",
      "|mWMc6_wTdE0EUBKIG...|Brewpubs, Breweri...|\n",
      "+--------------------+--------------------+\n",
      "only showing top 5 rows"
     ]
    }
   ],
   "source": [
    "from pyspark.sql.functions import *\n",
    "cat_init = business.select(\"business_id\", \"categories\")\n",
    "cat_init.show(5)"
   ]
  },
  {
   "cell_type": "markdown",
   "id": "7af125da",
   "metadata": {},
   "source": [
    "### Association Table \n",
    "***\n",
    "The first five rows of the Association Table are below:"
   ]
  },
  {
   "cell_type": "code",
   "execution_count": 9,
   "id": "9119743b",
   "metadata": {},
   "outputs": [
    {
     "data": {
      "application/vnd.jupyter.widget-view+json": {
       "model_id": "22f1760abd95469ba9f09e566bde66ba",
       "version_major": 2,
       "version_minor": 0
      },
      "text/plain": [
       "VBox()"
      ]
     },
     "metadata": {},
     "output_type": "display_data"
    },
    {
     "data": {
      "application/vnd.jupyter.widget-view+json": {
       "model_id": "",
       "version_major": 2,
       "version_minor": 0
      },
      "text/plain": [
       "FloatProgress(value=0.0, bar_style='info', description='Progress:', layout=Layout(height='25px', width='50%'),…"
      ]
     },
     "metadata": {},
     "output_type": "display_data"
    },
    {
     "name": "stdout",
     "output_type": "stream",
     "text": [
      "+--------------------+--------------------+\n",
      "|         business_id|            category|\n",
      "+--------------------+--------------------+\n",
      "|Pns2l4eNsfO8kk83d...|             Doctors|\n",
      "|Pns2l4eNsfO8kk83d...|Traditional Chine...|\n",
      "|Pns2l4eNsfO8kk83d...|Naturopathic/Holi...|\n",
      "|Pns2l4eNsfO8kk83d...|         Acupuncture|\n",
      "|Pns2l4eNsfO8kk83d...|    Health & Medical|\n",
      "+--------------------+--------------------+\n",
      "only showing top 5 rows"
     ]
    }
   ],
   "source": [
    "association = cat_init.select(\"business_id\", \"categories\")\n",
    "association = association.withColumn(\"category\", explode(split(col(\"categories\"), \", \")))\n",
    "association_table = association.select(\"business_id\", \"category\")\n",
    "association_table.show(5)"
   ]
  },
  {
   "cell_type": "markdown",
   "id": "36a4e0d1",
   "metadata": {},
   "source": [
    "### Total Unique Categories\n",
    "***\n"
   ]
  },
  {
   "cell_type": "code",
   "execution_count": 10,
   "id": "862abac7",
   "metadata": {},
   "outputs": [
    {
     "data": {
      "application/vnd.jupyter.widget-view+json": {
       "model_id": "8be7b815c6a84218a5dd3a64c4124d4d",
       "version_major": 2,
       "version_minor": 0
      },
      "text/plain": [
       "VBox()"
      ]
     },
     "metadata": {},
     "output_type": "display_data"
    },
    {
     "data": {
      "application/vnd.jupyter.widget-view+json": {
       "model_id": "",
       "version_major": 2,
       "version_minor": 0
      },
      "text/plain": [
       "FloatProgress(value=0.0, bar_style='info', description='Progress:', layout=Layout(height='25px', width='50%'),…"
      ]
     },
     "metadata": {},
     "output_type": "display_data"
    },
    {
     "name": "stdout",
     "output_type": "stream",
     "text": [
      "+------------------------+\n",
      "|count(DISTINCT category)|\n",
      "+------------------------+\n",
      "|                    1311|\n",
      "+------------------------+"
     ]
    }
   ],
   "source": [
    "cat_count = association_table.select(countDistinct(\"category\"))\n",
    "cat_count.show()"
   ]
  },
  {
   "cell_type": "markdown",
   "id": "99d25d8d",
   "metadata": {},
   "source": [
    "### Top Categories by Business\n",
    "***"
   ]
  },
  {
   "cell_type": "code",
   "execution_count": 11,
   "id": "ecd4069e",
   "metadata": {},
   "outputs": [
    {
     "data": {
      "application/vnd.jupyter.widget-view+json": {
       "model_id": "e83039b1e050418e9d0e416dd2317e0c",
       "version_major": 2,
       "version_minor": 0
      },
      "text/plain": [
       "VBox()"
      ]
     },
     "metadata": {},
     "output_type": "display_data"
    },
    {
     "data": {
      "application/vnd.jupyter.widget-view+json": {
       "model_id": "",
       "version_major": 2,
       "version_minor": 0
      },
      "text/plain": [
       "FloatProgress(value=0.0, bar_style='info', description='Progress:', layout=Layout(height='25px', width='50%'),…"
      ]
     },
     "metadata": {},
     "output_type": "display_data"
    },
    {
     "name": "stdout",
     "output_type": "stream",
     "text": [
      "+--------------------+-----+\n",
      "|            category|count|\n",
      "+--------------------+-----+\n",
      "|      Paddleboarding|   98|\n",
      "|      Dermatologists|  336|\n",
      "|         Hobby Shops|  552|\n",
      "|          Bubble Tea|  477|\n",
      "|             Embassy|    3|\n",
      "|             Tanning|  667|\n",
      "|            Handyman|  356|\n",
      "|      Aerial Fitness|   19|\n",
      "|             Falafel|  103|\n",
      "|        Summer Camps|  232|\n",
      "|       Outlet Stores|  182|\n",
      "|     Clothing Rental|   37|\n",
      "|      Sporting Goods| 1662|\n",
      "|     Cooking Schools|   76|\n",
      "|  Lactation Services|   27|\n",
      "|Ski & Snowboard S...|   40|\n",
      "|             Museums|  413|\n",
      "|              Doulas|   31|\n",
      "|                Food|27781|\n",
      "|         Halotherapy|   23|\n",
      "+--------------------+-----+\n",
      "only showing top 20 rows"
     ]
    }
   ],
   "source": [
    "company_count = association_table.groupBy(\"category\")\\\n",
    "    .agg(count('business_id').alias(\"count\"))\n",
    "\n",
    "company_count.show()"
   ]
  },
  {
   "cell_type": "markdown",
   "id": "6fe5ce54",
   "metadata": {},
   "source": [
    "### Bar Chart of Top Categories\n",
    "***\n",
    "#### Top 20 Categories:"
   ]
  },
  {
   "cell_type": "code",
   "execution_count": 12,
   "id": "c2f489d9",
   "metadata": {},
   "outputs": [
    {
     "data": {
      "application/vnd.jupyter.widget-view+json": {
       "model_id": "a26059323d3a4b49a799cab7be7a06d8",
       "version_major": 2,
       "version_minor": 0
      },
      "text/plain": [
       "VBox()"
      ]
     },
     "metadata": {},
     "output_type": "display_data"
    },
    {
     "data": {
      "application/vnd.jupyter.widget-view+json": {
       "model_id": "",
       "version_major": 2,
       "version_minor": 0
      },
      "text/plain": [
       "FloatProgress(value=0.0, bar_style='info', description='Progress:', layout=Layout(height='25px', width='50%'),…"
      ]
     },
     "metadata": {},
     "output_type": "display_data"
    },
    {
     "name": "stdout",
     "output_type": "stream",
     "text": [
      "+--------------------+-----+\n",
      "|            category|count|\n",
      "+--------------------+-----+\n",
      "|         Restaurants|52268|\n",
      "|                Food|27781|\n",
      "|            Shopping|24395|\n",
      "|       Home Services|14356|\n",
      "|       Beauty & Spas|14292|\n",
      "|           Nightlife|12281|\n",
      "|    Health & Medical|11890|\n",
      "|      Local Services|11198|\n",
      "|                Bars|11065|\n",
      "|          Automotive|10773|\n",
      "|Event Planning & ...| 9895|\n",
      "|          Sandwiches| 8366|\n",
      "|American (Traditi...| 8139|\n",
      "|         Active Life| 7687|\n",
      "|               Pizza| 7093|\n",
      "|        Coffee & Tea| 6703|\n",
      "|           Fast Food| 6472|\n",
      "|  Breakfast & Brunch| 6239|\n",
      "|      American (New)| 6097|\n",
      "|     Hotels & Travel| 5857|\n",
      "+--------------------+-----+\n",
      "only showing top 20 rows"
     ]
    }
   ],
   "source": [
    "comp_sort = company_count.sort(desc(\"count\")) \n",
    "comp_sort.show(20)"
   ]
  },
  {
   "cell_type": "markdown",
   "id": "09925f40",
   "metadata": {},
   "source": [
    "#### Top 20 Bar Chart:"
   ]
  },
  {
   "cell_type": "code",
   "execution_count": 137,
   "id": "6b842e6c",
   "metadata": {},
   "outputs": [
    {
     "data": {
      "application/vnd.jupyter.widget-view+json": {
       "model_id": "0bdc84e0f29348c68ac7d197a215f348",
       "version_major": 2,
       "version_minor": 0
      },
      "text/plain": [
       "VBox()"
      ]
     },
     "metadata": {},
     "output_type": "display_data"
    },
    {
     "data": {
      "application/vnd.jupyter.widget-view+json": {
       "model_id": "",
       "version_major": 2,
       "version_minor": 0
      },
      "text/plain": [
       "FloatProgress(value=0.0, bar_style='info', description='Progress:', layout=Layout(height='25px', width='50%'),…"
      ]
     },
     "metadata": {},
     "output_type": "display_data"
    },
    {
     "data": {
      "image/png": "[encoded data removed]",
      "text/plain": [
       "<IPython.core.display.Image object>"
      ]
     },
     "metadata": {},
     "output_type": "display_data"
    }
   ],
   "source": [
    "top_20 = comp_sort.limit(20).toPandas()\n",
    "plt.figure(figsize =(10,8))\n",
    "plt.title(\"Top 20 Categories on Yelp\")\n",
    "top_20.plot(kind='bar', x='category', color=\"dodgerblue\", figsize=(10,8))\n",
    "%matplot plt"
   ]
  },
  {
   "cell_type": "markdown",
   "id": "e58de9c4",
   "metadata": {},
   "source": [
    "## Part III: Do Yelp Reviews Skew Negative?\n",
    "***"
   ]
  },
  {
   "cell_type": "markdown",
   "id": "f8c44558",
   "metadata": {},
   "source": [
    "#### User Reviews Dataset \n",
    "***\n",
    "*Note: I chose to upload all datasets at the beginning of the Notebook.*  \n",
    "*See section titled \"Loading Datasets from S3*\"\n",
    "\n",
    "The Review dataset schema is displayed below, followed by the first five rows of selected columns. "
   ]
  },
  {
   "cell_type": "code",
   "execution_count": 14,
   "id": "ef0a0019",
   "metadata": {},
   "outputs": [
    {
     "data": {
      "application/vnd.jupyter.widget-view+json": {
       "model_id": "988f269a7d6b4575bdb83e982b1cb23f",
       "version_major": 2,
       "version_minor": 0
      },
      "text/plain": [
       "VBox()"
      ]
     },
     "metadata": {},
     "output_type": "display_data"
    },
    {
     "data": {
      "application/vnd.jupyter.widget-view+json": {
       "model_id": "",
       "version_major": 2,
       "version_minor": 0
      },
      "text/plain": [
       "FloatProgress(value=0.0, bar_style='info', description='Progress:', layout=Layout(height='25px', width='50%'),…"
      ]
     },
     "metadata": {},
     "output_type": "display_data"
    },
    {
     "name": "stdout",
     "output_type": "stream",
     "text": [
      "root\n",
      " |-- business_id: string (nullable = true)\n",
      " |-- cool: long (nullable = true)\n",
      " |-- date: string (nullable = true)\n",
      " |-- funny: long (nullable = true)\n",
      " |-- review_id: string (nullable = true)\n",
      " |-- stars: double (nullable = true)\n",
      " |-- text: string (nullable = true)\n",
      " |-- useful: long (nullable = true)\n",
      " |-- user_id: string (nullable = true)"
     ]
    }
   ],
   "source": [
    "review.printSchema()"
   ]
  },
  {
   "cell_type": "code",
   "execution_count": 15,
   "id": "943c930c",
   "metadata": {},
   "outputs": [
    {
     "data": {
      "application/vnd.jupyter.widget-view+json": {
       "model_id": "7e92f7f8ccc647899edf655193ba7678",
       "version_major": 2,
       "version_minor": 0
      },
      "text/plain": [
       "VBox()"
      ]
     },
     "metadata": {},
     "output_type": "display_data"
    },
    {
     "data": {
      "application/vnd.jupyter.widget-view+json": {
       "model_id": "",
       "version_major": 2,
       "version_minor": 0
      },
      "text/plain": [
       "FloatProgress(value=0.0, bar_style='info', description='Progress:', layout=Layout(height='25px', width='50%'),…"
      ]
     },
     "metadata": {},
     "output_type": "display_data"
    },
    {
     "name": "stdout",
     "output_type": "stream",
     "text": [
      "+--------------------+-----+\n",
      "|         business_id|stars|\n",
      "+--------------------+-----+\n",
      "|XQfwVwDr-v0ZS3_Cb...|  3.0|\n",
      "|7ATYjTIgM3jUlt4UM...|  5.0|\n",
      "|YjUWPpI6HXG530lwP...|  3.0|\n",
      "|kxX2SOes4o-D3ZQBk...|  5.0|\n",
      "|e4Vwtrqf-wpJfwesg...|  4.0|\n",
      "+--------------------+-----+\n",
      "only showing top 5 rows"
     ]
    }
   ],
   "source": [
    "stars = review.select(\"business_id\", \"stars\")\n",
    "stars.show(5)"
   ]
  },
  {
   "cell_type": "markdown",
   "id": "71315271",
   "metadata": {},
   "source": [
    "### Average Stars per Business\n",
    "***"
   ]
  },
  {
   "cell_type": "code",
   "execution_count": 16,
   "id": "01883081",
   "metadata": {},
   "outputs": [
    {
     "data": {
      "application/vnd.jupyter.widget-view+json": {
       "model_id": "f3698f4ef96b45cbb70216519a9516f3",
       "version_major": 2,
       "version_minor": 0
      },
      "text/plain": [
       "VBox()"
      ]
     },
     "metadata": {},
     "output_type": "display_data"
    },
    {
     "data": {
      "application/vnd.jupyter.widget-view+json": {
       "model_id": "",
       "version_major": 2,
       "version_minor": 0
      },
      "text/plain": [
       "FloatProgress(value=0.0, bar_style='info', description='Progress:', layout=Layout(height='25px', width='50%'),…"
      ]
     },
     "metadata": {},
     "output_type": "display_data"
    },
    {
     "name": "stdout",
     "output_type": "stream",
     "text": [
      "+--------------------+------------------+\n",
      "|         business_id|         avg_stars|\n",
      "+--------------------+------------------+\n",
      "|zJErbOQMKX-MwHs_u...|2.9279279279279278|\n",
      "|RZ-FNTXvqHKngyLGD...|2.8823529411764706|\n",
      "|HSzSGdcNaU7heQe0N...|3.3333333333333335|\n",
      "|skW4boArIApRw9DXK...|2.3947368421052633|\n",
      "|I0053JmJ5DEFUWSJ8...|2.3956043956043955|\n",
      "+--------------------+------------------+\n",
      "only showing top 5 rows"
     ]
    }
   ],
   "source": [
    "nll = '\\\\N'\n",
    "avg_stars = review.select(\"business_id\", \"stars\", \"review_id\", \"user_id\") \\\n",
    "    .filter((review.user_id != nll)) \\\n",
    "    .groupBy(\"business_id\") \\\n",
    "    .agg(mean(\"stars\").alias(\"avg_stars\"))\n",
    "avg_stars.show(5)"
   ]
  },
  {
   "cell_type": "markdown",
   "id": "d066c2c0",
   "metadata": {},
   "source": [
    "### Joined Datasets \n",
    "***"
   ]
  },
  {
   "cell_type": "code",
   "execution_count": 17,
   "id": "d3a5ec4a",
   "metadata": {},
   "outputs": [
    {
     "data": {
      "application/vnd.jupyter.widget-view+json": {
       "model_id": "6bfb8b39257a4877bb449f5dce325dbf",
       "version_major": 2,
       "version_minor": 0
      },
      "text/plain": [
       "VBox()"
      ]
     },
     "metadata": {},
     "output_type": "display_data"
    },
    {
     "data": {
      "application/vnd.jupyter.widget-view+json": {
       "model_id": "",
       "version_major": 2,
       "version_minor": 0
      },
      "text/plain": [
       "FloatProgress(value=0.0, bar_style='info', description='Progress:', layout=Layout(height='25px', width='50%'),…"
      ]
     },
     "metadata": {},
     "output_type": "display_data"
    },
    {
     "name": "stdout",
     "output_type": "stream",
     "text": [
      "+--------------------+------------+-----+-----+------------------+\n",
      "|                name|        city|state|stars|         avg_stars|\n",
      "+--------------------+------------+-----+-----+------------------+\n",
      "|Gillane's Bar & G...|     Ardmore|   PA|  3.0|3.3333333333333335|\n",
      "|Champps Penn's La...|Philadelphia|   PA|  2.5|2.3947368421052633|\n",
      "|Philadelphia Marr...|Philadelphia|   PA|  3.0|2.9279279279279278|\n",
      "|Golden Corral Buf...|      Tucson|   AZ|  2.5|2.3956043956043955|\n",
      "|  Swiss Watch Center|       Tampa|   FL|  3.5| 3.357142857142857|\n",
      "+--------------------+------------+-----+-----+------------------+\n",
      "only showing top 5 rows"
     ]
    }
   ],
   "source": [
    "biz = business.select(\"business_id\", \"name\", \"city\", \"state\", \"stars\")\n",
    "merged = biz.join(avg_stars,[\"business_id\"])\n",
    "merged = merged.select(\"name\", \"city\", \"state\", \"stars\", \"avg_stars\")\n",
    "merged.show(5)"
   ]
  },
  {
   "cell_type": "markdown",
   "id": "3fe6e44f",
   "metadata": {},
   "source": [
    "### Skew Calculation\n",
    "***"
   ]
  },
  {
   "cell_type": "code",
   "execution_count": 38,
   "id": "80faace7",
   "metadata": {},
   "outputs": [
    {
     "data": {
      "application/vnd.jupyter.widget-view+json": {
       "model_id": "7888b49b416948d4aafa3ab2e6d80857",
       "version_major": 2,
       "version_minor": 0
      },
      "text/plain": [
       "VBox()"
      ]
     },
     "metadata": {},
     "output_type": "display_data"
    },
    {
     "data": {
      "application/vnd.jupyter.widget-view+json": {
       "model_id": "",
       "version_major": 2,
       "version_minor": 0
      },
      "text/plain": [
       "FloatProgress(value=0.0, bar_style='info', description='Progress:', layout=Layout(height='25px', width='50%'),…"
      ]
     },
     "metadata": {},
     "output_type": "display_data"
    },
    {
     "name": "stdout",
     "output_type": "stream",
     "text": [
      "+--------------------+------------+-----+-----+------------------+--------------------+\n",
      "|                name|        city|state|stars|         avg_stars|                skew|\n",
      "+--------------------+------------+-----+-----+------------------+--------------------+\n",
      "|  Swiss Watch Center|       Tampa|   FL|  3.5| 3.357142857142857|-0.04081632653061223|\n",
      "|Champps Penn's La...|Philadelphia|   PA|  2.5|2.3947368421052633|-0.04210526315789469|\n",
      "|  NJ Weedman's Joint|     Trenton|   NJ|  4.0| 4.232558139534884|0.058139534883721034|\n",
      "|Golden Corral Buf...|      Tucson|   AZ|  2.5|2.3956043956043955|-0.04175824175824179|\n",
      "|Philadelphia Marr...|Philadelphia|   PA|  3.0|2.9279279279279278|-0.02402402402402...|\n",
      "+--------------------+------------+-----+-----+------------------+--------------------+\n",
      "only showing top 5 rows"
     ]
    }
   ],
   "source": [
    "skew1 = merged.withColumn('skew', ((col(\"avg_stars\") - col(\"stars\"))/ col(\"stars\")))\n",
    "skew1.show(5)"
   ]
  },
  {
   "cell_type": "markdown",
   "id": "4cf4663b",
   "metadata": {},
   "source": [
    "### Skew Value Graph\n",
    "***"
   ]
  },
  {
   "cell_type": "markdown",
   "id": "875acbb0",
   "metadata": {},
   "source": [
    "#### Implications:\n",
    "For this portion of the project, I decided to experiment with the number of bins used in a series of three histograms; the first histogram is plotted using 50 bins, the second with 75, and the third with 150. As the number of bins increases, it suggests that many of the reviews are quite close in value to the average rating of each business. Overall, however, there does appear to be a slightly negative skew to dataset. Implications are continued below."
   ]
  },
  {
   "cell_type": "code",
   "execution_count": 62,
   "id": "a6f0017a",
   "metadata": {},
   "outputs": [
    {
     "data": {
      "application/vnd.jupyter.widget-view+json": {
       "model_id": "d2a4e7849782430f806abd30d53e309e",
       "version_major": 2,
       "version_minor": 0
      },
      "text/plain": [
       "VBox()"
      ]
     },
     "metadata": {},
     "output_type": "display_data"
    },
    {
     "data": {
      "application/vnd.jupyter.widget-view+json": {
       "model_id": "",
       "version_major": 2,
       "version_minor": 0
      },
      "text/plain": [
       "FloatProgress(value=0.0, bar_style='info', description='Progress:', layout=Layout(height='25px', width='50%'),…"
      ]
     },
     "metadata": {},
     "output_type": "display_data"
    },
    {
     "data": {
      "image/png": "[encoded data removed]",
      "text/plain": [
       "<IPython.core.display.Image object>"
      ]
     },
     "metadata": {},
     "output_type": "display_data"
    }
   ],
   "source": [
    "skew2 = skew1.toPandas()\n",
    "plt.figure(figsize=(10,6))\n",
    "plt.hist(skew2['skew'], density=True, bins=50, color=\"steelblue\")\n",
    "plt.xlabel(\"Skew Value\")\n",
    "plt.ylabel(\"Count\")\n",
    "plt.title(\"Histogram of Skew Value Calculations: Yelp Written Reviews (75 Bins)\")\n",
    "plt.show()\n",
    "%matplot plt"
   ]
  },
  {
   "cell_type": "code",
   "execution_count": 61,
   "id": "c5b0dcbf",
   "metadata": {},
   "outputs": [
    {
     "data": {
      "application/vnd.jupyter.widget-view+json": {
       "model_id": "476b8ee9f2b747dcbeef1d6b1e189041",
       "version_major": 2,
       "version_minor": 0
      },
      "text/plain": [
       "VBox()"
      ]
     },
     "metadata": {},
     "output_type": "display_data"
    },
    {
     "data": {
      "application/vnd.jupyter.widget-view+json": {
       "model_id": "",
       "version_major": 2,
       "version_minor": 0
      },
      "text/plain": [
       "FloatProgress(value=0.0, bar_style='info', description='Progress:', layout=Layout(height='25px', width='50%'),…"
      ]
     },
     "metadata": {},
     "output_type": "display_data"
    },
    {
     "data": {
      "image/png": "[encoded data removed]",
      "text/plain": [
       "<IPython.core.display.Image object>"
      ]
     },
     "metadata": {},
     "output_type": "display_data"
    }
   ],
   "source": [
    "skew2 = skew1.toPandas()\n",
    "plt.figure(figsize=(10,6))\n",
    "plt.hist(skew2['skew'], density=True, bins=75, color=\"mediumaquamarine\")\n",
    "plt.xlabel(\"Skew Value\")\n",
    "plt.ylabel(\"Count\")\n",
    "plt.title(\"Histogram of Skew Value Calculations: Yelp Written Reviews (75 Bins)\")\n",
    "plt.show()\n",
    "%matplot plt\n"
   ]
  },
  {
   "cell_type": "code",
   "execution_count": 60,
   "id": "ad85067a",
   "metadata": {},
   "outputs": [
    {
     "data": {
      "application/vnd.jupyter.widget-view+json": {
       "model_id": "72d598c3487445c38c297d7a17249bf4",
       "version_major": 2,
       "version_minor": 0
      },
      "text/plain": [
       "VBox()"
      ]
     },
     "metadata": {},
     "output_type": "display_data"
    },
    {
     "data": {
      "application/vnd.jupyter.widget-view+json": {
       "model_id": "",
       "version_major": 2,
       "version_minor": 0
      },
      "text/plain": [
       "FloatProgress(value=0.0, bar_style='info', description='Progress:', layout=Layout(height='25px', width='50%'),…"
      ]
     },
     "metadata": {},
     "output_type": "display_data"
    },
    {
     "data": {
      "image/png": "[encoded data removed]",
      "text/plain": [
       "<IPython.core.display.Image object>"
      ]
     },
     "metadata": {},
     "output_type": "display_data"
    }
   ],
   "source": [
    "skew2 = skew1.toPandas()\n",
    "plt.figure(figsize=(10,6))\n",
    "plt.hist(skew2['skew'], bins=150, color=\"dodgerblue\")\n",
    "plt.xlabel(\"Skew Value\")\n",
    "plt.ylabel(\"Count\")\n",
    "plt.title(\"Histogram of Skew Value Calculations: Yelp Written Reviews (150 Bins)\")\n",
    "plt.show()\n",
    "%matplot plt\n"
   ]
  },
  {
   "cell_type": "markdown",
   "id": "723556b7",
   "metadata": {},
   "source": [
    "#### Implications Continued:\n",
    "***\n",
    "The final histogram, with 150 bins, shows that nearly 25,000 reviews are identical to the mean review calculated in \"average stars.\" At first, in the 50-bin histogram, it appears that the distribution of the data is unimodal, or nearly single-peaked. However, as we drill down and increase the number of bins in each successive visualization, the data looks increasingly multi-modal, with two clusters forming roughly equidistant from 0.0. It is possible that this is because customers are more likely to choose whole numbers (i.e. \"3 stars\" or \"5 stars\" rather than 3.5 or 4.5 stars) but this is just speculation. There does appear to be a slightly negative skew to the written Yelp reviews overall. "
   ]
  },
  {
   "cell_type": "markdown",
   "id": "5a874291",
   "metadata": {},
   "source": [
    "## Part IV: Should the Elite be Trusted?\n",
    "***"
   ]
  },
  {
   "cell_type": "markdown",
   "id": "01294a0b",
   "metadata": {},
   "source": [
    "_\"How accurate or close are the ratings of an \"elite\" user vs. the actual business ratings?\"_"
   ]
  },
  {
   "cell_type": "markdown",
   "id": "31f6aff2",
   "metadata": {},
   "source": [
    "### Joining User and Review Datasets\n",
    "***\n",
    "First, I pulled up the schema of each dataset to determine which column to perform the join on:"
   ]
  },
  {
   "cell_type": "code",
   "execution_count": 67,
   "id": "04879e37",
   "metadata": {},
   "outputs": [
    {
     "data": {
      "application/vnd.jupyter.widget-view+json": {
       "model_id": "921b1507be254b199c68e0da08ebae61",
       "version_major": 2,
       "version_minor": 0
      },
      "text/plain": [
       "VBox()"
      ]
     },
     "metadata": {},
     "output_type": "display_data"
    },
    {
     "data": {
      "application/vnd.jupyter.widget-view+json": {
       "model_id": "",
       "version_major": 2,
       "version_minor": 0
      },
      "text/plain": [
       "FloatProgress(value=0.0, bar_style='info', description='Progress:', layout=Layout(height='25px', width='50%'),…"
      ]
     },
     "metadata": {},
     "output_type": "display_data"
    },
    {
     "name": "stdout",
     "output_type": "stream",
     "text": [
      "root\n",
      " |-- average_stars: double (nullable = true)\n",
      " |-- compliment_cool: long (nullable = true)\n",
      " |-- compliment_cute: long (nullable = true)\n",
      " |-- compliment_funny: long (nullable = true)\n",
      " |-- compliment_hot: long (nullable = true)\n",
      " |-- compliment_list: long (nullable = true)\n",
      " |-- compliment_more: long (nullable = true)\n",
      " |-- compliment_note: long (nullable = true)\n",
      " |-- compliment_photos: long (nullable = true)\n",
      " |-- compliment_plain: long (nullable = true)\n",
      " |-- compliment_profile: long (nullable = true)\n",
      " |-- compliment_writer: long (nullable = true)\n",
      " |-- cool: long (nullable = true)\n",
      " |-- elite: string (nullable = true)\n",
      " |-- fans: long (nullable = true)\n",
      " |-- friends: string (nullable = true)\n",
      " |-- funny: long (nullable = true)\n",
      " |-- name: string (nullable = true)\n",
      " |-- review_count: long (nullable = true)\n",
      " |-- useful: long (nullable = true)\n",
      " |-- user_id: string (nullable = true)\n",
      " |-- yelping_since: string (nullable = true)\n",
      "\n",
      "root\n",
      " |-- business_id: string (nullable = true)\n",
      " |-- cool: long (nullable = true)\n",
      " |-- date: string (nullable = true)\n",
      " |-- funny: long (nullable = true)\n",
      " |-- review_id: string (nullable = true)\n",
      " |-- stars: double (nullable = true)\n",
      " |-- text: string (nullable = true)\n",
      " |-- useful: long (nullable = true)\n",
      " |-- user_id: string (nullable = true)"
     ]
    }
   ],
   "source": [
    "user.printSchema()\n",
    "review.printSchema()"
   ]
  },
  {
   "cell_type": "code",
   "execution_count": 79,
   "id": "fe93a239",
   "metadata": {},
   "outputs": [
    {
     "data": {
      "application/vnd.jupyter.widget-view+json": {
       "model_id": "b7a66d92e3f743feba48470b7e5b546c",
       "version_major": 2,
       "version_minor": 0
      },
      "text/plain": [
       "VBox()"
      ]
     },
     "metadata": {},
     "output_type": "display_data"
    },
    {
     "data": {
      "application/vnd.jupyter.widget-view+json": {
       "model_id": "",
       "version_major": 2,
       "version_minor": 0
      },
      "text/plain": [
       "FloatProgress(value=0.0, bar_style='info', description='Progress:', layout=Layout(height='25px', width='50%'),…"
      ]
     },
     "metadata": {},
     "output_type": "display_data"
    },
    {
     "name": "stdout",
     "output_type": "stream",
     "text": [
      "+--------------------+-----+-------------+------------+\n",
      "|             user_id|elite|average_stars|review_stars|\n",
      "+--------------------+-----+-------------+------------+\n",
      "|yiYUEExKfZEv_T8CF...| 2015|         3.72|         3.0|\n",
      "|yiYUEExKfZEv_T8CF...| 2015|         3.72|         4.0|\n",
      "|yiYUEExKfZEv_T8CF...| 2015|         3.72|         3.0|\n",
      "|yiYUEExKfZEv_T8CF...| 2015|         3.72|         4.0|\n",
      "|yiYUEExKfZEv_T8CF...| 2015|         3.72|         3.0|\n",
      "+--------------------+-----+-------------+------------+\n",
      "only showing top 5 rows"
     ]
    }
   ],
   "source": [
    "user1 = user.select(\"user_id\", \"elite\",\"average_stars\")\\\n",
    "    .filter((user.elite > 0))\n",
    "review1 = review.select(\"user_id\", \"stars\")\\\n",
    "    .withColumnRenamed(\"stars\", \"review_stars\")\n",
    "user_review = user1.join(review1,[\"user_id\"])\n",
    "\n",
    "user_review.show(5)"
   ]
  },
  {
   "cell_type": "markdown",
   "id": "2439c298",
   "metadata": {},
   "source": [
    "### Comparing Elite User Ratings and Average Ratings\n",
    "***\n",
    "Using the method from Part 3, I calculated the \"skew value\" of an elite user's rating relative to the average (mean) rating on Yelp. The histogram of these results is below: "
   ]
  },
  {
   "cell_type": "code",
   "execution_count": 80,
   "id": "6f919b06",
   "metadata": {},
   "outputs": [
    {
     "data": {
      "application/vnd.jupyter.widget-view+json": {
       "model_id": "c577d8b0885a4399a4914ec0ebb683f7",
       "version_major": 2,
       "version_minor": 0
      },
      "text/plain": [
       "VBox()"
      ]
     },
     "metadata": {},
     "output_type": "display_data"
    },
    {
     "data": {
      "application/vnd.jupyter.widget-view+json": {
       "model_id": "",
       "version_major": 2,
       "version_minor": 0
      },
      "text/plain": [
       "FloatProgress(value=0.0, bar_style='info', description='Progress:', layout=Layout(height='25px', width='50%'),…"
      ]
     },
     "metadata": {},
     "output_type": "display_data"
    },
    {
     "name": "stdout",
     "output_type": "stream",
     "text": [
      "+--------------------+-----+-------------+------------+--------------------+\n",
      "|             user_id|elite|average_stars|review_stars|          elite_skew|\n",
      "+--------------------+-----+-------------+------------+--------------------+\n",
      "|yiYUEExKfZEv_T8CF...| 2015|         3.72|         3.0| 0.24000000000000007|\n",
      "|yiYUEExKfZEv_T8CF...| 2015|         3.72|         4.0|-0.06999999999999995|\n",
      "|yiYUEExKfZEv_T8CF...| 2015|         3.72|         3.0| 0.24000000000000007|\n",
      "|yiYUEExKfZEv_T8CF...| 2015|         3.72|         4.0|-0.06999999999999995|\n",
      "|yiYUEExKfZEv_T8CF...| 2015|         3.72|         3.0| 0.24000000000000007|\n",
      "+--------------------+-----+-------------+------------+--------------------+\n",
      "only showing top 5 rows"
     ]
    }
   ],
   "source": [
    "user_skew = user_review.withColumn('elite_skew', ((col(\"average_stars\") - col(\"review_stars\"))/ col(\"review_stars\")))\n",
    "user_skew.show(5)"
   ]
  },
  {
   "cell_type": "code",
   "execution_count": 81,
   "id": "4b649543",
   "metadata": {},
   "outputs": [
    {
     "data": {
      "application/vnd.jupyter.widget-view+json": {
       "model_id": "f9ff6e98a80e44ef83a84955efc49692",
       "version_major": 2,
       "version_minor": 0
      },
      "text/plain": [
       "VBox()"
      ]
     },
     "metadata": {},
     "output_type": "display_data"
    },
    {
     "data": {
      "application/vnd.jupyter.widget-view+json": {
       "model_id": "",
       "version_major": 2,
       "version_minor": 0
      },
      "text/plain": [
       "FloatProgress(value=0.0, bar_style='info', description='Progress:', layout=Layout(height='25px', width='50%'),…"
      ]
     },
     "metadata": {},
     "output_type": "display_data"
    }
   ],
   "source": [
    "elites1 = user_skew.select(\"elite_skew\")\n",
    "elites2 = elites1.toPandas()"
   ]
  },
  {
   "cell_type": "code",
   "execution_count": 82,
   "id": "e3927a1a",
   "metadata": {},
   "outputs": [
    {
     "data": {
      "application/vnd.jupyter.widget-view+json": {
       "model_id": "f5a9e847156c40a29d0255e5cb3ecd99",
       "version_major": 2,
       "version_minor": 0
      },
      "text/plain": [
       "VBox()"
      ]
     },
     "metadata": {},
     "output_type": "display_data"
    },
    {
     "data": {
      "application/vnd.jupyter.widget-view+json": {
       "model_id": "",
       "version_major": 2,
       "version_minor": 0
      },
      "text/plain": [
       "FloatProgress(value=0.0, bar_style='info', description='Progress:', layout=Layout(height='25px', width='50%'),…"
      ]
     },
     "metadata": {},
     "output_type": "display_data"
    },
    {
     "data": {
      "image/png": "[encoded data removed]",
      "text/plain": [
       "<IPython.core.display.Image object>"
      ]
     },
     "metadata": {},
     "output_type": "display_data"
    }
   ],
   "source": [
    "plt.figure(figsize=(10,6))\n",
    "plt.hist(elites2['elite_skew'], bins=60, color=\"dodgerblue\")\n",
    "plt.xlabel(\"Elite Skew Value\")\n",
    "plt.ylabel(\"Count\")\n",
    "plt.title(\"Histogram of Skew Values: Elite Ratings vs. Average Ratings\")\n",
    "plt.show()\n",
    "%matplot plt\n"
   ]
  },
  {
   "cell_type": "code",
   "execution_count": 94,
   "id": "75a98f6b",
   "metadata": {},
   "outputs": [
    {
     "data": {
      "application/vnd.jupyter.widget-view+json": {
       "model_id": "b83b3b61edaa477c996587802e3c5ad9",
       "version_major": 2,
       "version_minor": 0
      },
      "text/plain": [
       "VBox()"
      ]
     },
     "metadata": {},
     "output_type": "display_data"
    },
    {
     "data": {
      "application/vnd.jupyter.widget-view+json": {
       "model_id": "",
       "version_major": 2,
       "version_minor": 0
      },
      "text/plain": [
       "FloatProgress(value=0.0, bar_style='info', description='Progress:', layout=Layout(height='25px', width='50%'),…"
      ]
     },
     "metadata": {},
     "output_type": "display_data"
    },
    {
     "name": "stdout",
     "output_type": "stream",
     "text": [
      "+------------------+\n",
      "|   avg(elite_skew)|\n",
      "+------------------+\n",
      "|0.1607673546231813|\n",
      "+------------------+\n",
      "\n",
      "+------------------+\n",
      "|stddev(elite_skew)|\n",
      "+------------------+\n",
      "|0.6831386838143271|\n",
      "+------------------+"
     ]
    }
   ],
   "source": [
    "elite_mean = elites1.agg({'elite_skew': 'mean'}).show()\n",
    "elite_mean = elites1.agg({'elite_skew': 'stddev'}).show()\n"
   ]
  },
  {
   "cell_type": "markdown",
   "id": "23329d61",
   "metadata": {},
   "source": [
    "### Implications\n",
    "***\n",
    "The histogram's tail shows a strong positive skew to the right. After calculating the mean and the standard deviation above (using the .aggregate() function), it is clear that the mean value of 0.16 and the standard deviation value of 0.68 are quite far apart. This confirms what we can see in the histogram: that the data points have a high degree of variation. Additionally, the coefficent of variation can be approximated from these two figures: 0.68/0.16 = 4.25.  \n",
    "\n",
    "This indicates that, while many elite Yelp reviewers give ratings that are quite close to the average Yelp rating (the mean value is 0.16 where a skew value of 0.0 would be a complete match with the average rating) there is considerable variability amongst elite users. A comparatively small but still significant number of elite ratings differ from the average by multiple standard deviations.  \n"
   ]
  },
  {
   "cell_type": "markdown",
   "id": "5417497f",
   "metadata": {},
   "source": [
    "## Extra Credit:\n",
    "***\n",
    "I decided to examine which states have the most active yelp users. This could be a valuable business insight for Yelp in determining where they choose to allocate resources and in identifying which markets they might wish to expand into.  \n",
    "\n",
    "To achieve this, I first needed to join the review dataset with the business data set. (I will join user dataset in a later step.)"
   ]
  },
  {
   "cell_type": "markdown",
   "id": "d389e45c",
   "metadata": {},
   "source": [
    "### US States with Greatest Market Penetration for Yelp\n",
    "***"
   ]
  },
  {
   "cell_type": "code",
   "execution_count": 119,
   "id": "032b4cee",
   "metadata": {},
   "outputs": [
    {
     "data": {
      "application/vnd.jupyter.widget-view+json": {
       "model_id": "e8e8b9586cea4b2e8fc57aa2f53395ff",
       "version_major": 2,
       "version_minor": 0
      },
      "text/plain": [
       "VBox()"
      ]
     },
     "metadata": {},
     "output_type": "display_data"
    },
    {
     "data": {
      "application/vnd.jupyter.widget-view+json": {
       "model_id": "",
       "version_major": 2,
       "version_minor": 0
      },
      "text/plain": [
       "FloatProgress(value=0.0, bar_style='info', description='Progress:', layout=Layout(height='25px', width='50%'),…"
      ]
     },
     "metadata": {},
     "output_type": "display_data"
    }
   ],
   "source": [
    "biz_ec = business.select(\"business_id\", \"name\", \"state\", \"stars\")\n",
    "rev_ec = review.select(\"business_id\", \"user_id\")\n",
    "temp_ec = biz_ec.join(rev_ec,[\"business_id\"])"
   ]
  },
  {
   "cell_type": "code",
   "execution_count": 111,
   "id": "71e8af97",
   "metadata": {},
   "outputs": [
    {
     "data": {
      "application/vnd.jupyter.widget-view+json": {
       "model_id": "b8eedde4f4d543468bcce6163d4f3cc0",
       "version_major": 2,
       "version_minor": 0
      },
      "text/plain": [
       "VBox()"
      ]
     },
     "metadata": {},
     "output_type": "display_data"
    },
    {
     "data": {
      "application/vnd.jupyter.widget-view+json": {
       "model_id": "",
       "version_major": 2,
       "version_minor": 0
      },
      "text/plain": [
       "FloatProgress(value=0.0, bar_style='info', description='Progress:', layout=Layout(height='25px', width='50%'),…"
      ]
     },
     "metadata": {},
     "output_type": "display_data"
    },
    {
     "name": "stdout",
     "output_type": "stream",
     "text": [
      "+-----+-------+\n",
      "|state|  count|\n",
      "+-----+-------+\n",
      "|   PA|1598960|\n",
      "|   FL|1161545|\n",
      "|   LA| 761673|\n",
      "|   TN| 614388|\n",
      "|   MO| 502385|\n",
      "|   IN| 489752|\n",
      "|   AZ| 431708|\n",
      "|   NV| 430678|\n",
      "|   CA| 348856|\n",
      "|   NJ| 260897|\n",
      "+-----+-------+\n",
      "only showing top 10 rows"
     ]
    }
   ],
   "source": [
    "temp2 = temp_ec.select(\"user_id\", \"state\")\n",
    "user_state = temp2.groupBy(\"state\")\\\n",
    "    .agg(count(\"user_id\").alias(\"count\"))\n",
    "\n",
    "Yelp_most_pop_states = user_state.sort(desc(\"count\")) \n",
    "\n",
    "Yelp_most_pop_states.show(10)"
   ]
  },
  {
   "cell_type": "code",
   "execution_count": 131,
   "id": "8b9cd82e",
   "metadata": {
    "scrolled": true
   },
   "outputs": [
    {
     "data": {
      "application/vnd.jupyter.widget-view+json": {
       "model_id": "d37a12eb7fbc4aee8aa4fdf095689877",
       "version_major": 2,
       "version_minor": 0
      },
      "text/plain": [
       "VBox()"
      ]
     },
     "metadata": {},
     "output_type": "display_data"
    },
    {
     "data": {
      "application/vnd.jupyter.widget-view+json": {
       "model_id": "",
       "version_major": 2,
       "version_minor": 0
      },
      "text/plain": [
       "FloatProgress(value=0.0, bar_style='info', description='Progress:', layout=Layout(height='25px', width='50%'),…"
      ]
     },
     "metadata": {},
     "output_type": "display_data"
    },
    {
     "data": {
      "image/png": "[encoded data removed]",
      "text/plain": [
       "<IPython.core.display.Image object>"
      ]
     },
     "metadata": {},
     "output_type": "display_data"
    }
   ],
   "source": [
    "Yelp_Top_States = Yelp_most_pop_states.limit(10).toPandas()\n",
    "plt.figure(figsize =(10,8))\n",
    "Yelp_Top_States.plot(kind='bar', x='state', color=\"lavender\", figsize=(10,8))\n",
    "plt.title(\"States with Highest Yelp Usage\")\n",
    "%matplot plt"
   ]
  },
  {
   "cell_type": "markdown",
   "id": "580f8dfe",
   "metadata": {},
   "source": [
    "### States with Lowest Market Penetration:\n",
    "***"
   ]
  },
  {
   "cell_type": "code",
   "execution_count": 104,
   "id": "a0b9d190",
   "metadata": {},
   "outputs": [
    {
     "data": {
      "application/vnd.jupyter.widget-view+json": {
       "model_id": "3ea74d5b4a0647089a1551f065193b2c",
       "version_major": 2,
       "version_minor": 0
      },
      "text/plain": [
       "VBox()"
      ]
     },
     "metadata": {},
     "output_type": "display_data"
    },
    {
     "data": {
      "application/vnd.jupyter.widget-view+json": {
       "model_id": "",
       "version_major": 2,
       "version_minor": 0
      },
      "text/plain": [
       "FloatProgress(value=0.0, bar_style='info', description='Progress:', layout=Layout(height='25px', width='50%'),…"
      ]
     },
     "metadata": {},
     "output_type": "display_data"
    },
    {
     "name": "stdout",
     "output_type": "stream",
     "text": [
      "+-----+-----+\n",
      "|state|count|\n",
      "+-----+-----+\n",
      "|  XMS|    5|\n",
      "|   MT|    6|\n",
      "|   VT|   10|\n",
      "|   MI|   11|\n",
      "|   VI|   11|\n",
      "|   WA|   19|\n",
      "|   UT|   19|\n",
      "|   NC|   29|\n",
      "|   CO|   31|\n",
      "|   HI|   34|\n",
      "+-----+-----+\n",
      "only showing top 10 rows"
     ]
    }
   ],
   "source": [
    "Yelp_least_pop_states = user_state.sort(asc(\"count\")) \n",
    "Yelp_least_pop_states.show(10)"
   ]
  },
  {
   "cell_type": "code",
   "execution_count": 134,
   "id": "7dc00cac",
   "metadata": {},
   "outputs": [
    {
     "data": {
      "application/vnd.jupyter.widget-view+json": {
       "model_id": "50690012d4f84f5da35fb9724e16d187",
       "version_major": 2,
       "version_minor": 0
      },
      "text/plain": [
       "VBox()"
      ]
     },
     "metadata": {},
     "output_type": "display_data"
    },
    {
     "data": {
      "application/vnd.jupyter.widget-view+json": {
       "model_id": "",
       "version_major": 2,
       "version_minor": 0
      },
      "text/plain": [
       "FloatProgress(value=0.0, bar_style='info', description='Progress:', layout=Layout(height='25px', width='50%'),…"
      ]
     },
     "metadata": {},
     "output_type": "display_data"
    },
    {
     "data": {
      "image/png": "[encoded data removed]",
      "text/plain": [
       "<IPython.core.display.Image object>"
      ]
     },
     "metadata": {},
     "output_type": "display_data"
    }
   ],
   "source": [
    "Yelp_Worst_States = Yelp_least_pop_states.limit(10).toPandas()\n",
    "plt.figure(figsize =(10,8))\n",
    "Yelp_Worst_States.plot(kind='bar', x='state', color=\"darkcyan\", figsize=(10,8))\n",
    "plt.title(\"States with Lowest Yelp Usage\")\n",
    "%matplot plt"
   ]
  },
  {
   "cell_type": "markdown",
   "id": "d480ec25",
   "metadata": {},
   "source": [
    "### Joining the User and Business Datasets\n",
    "***\n",
    "Finally, I thought it would interesting to see the States that contained the most \"elite\" Yelp reviewers. In order to do this, I needed to join the User dataset to the Business dataset by linking each dataset to the Review dataset:"
   ]
  },
  {
   "cell_type": "code",
   "execution_count": 127,
   "id": "1b1f2413",
   "metadata": {},
   "outputs": [
    {
     "data": {
      "application/vnd.jupyter.widget-view+json": {
       "model_id": "c513771703f048008af928d8b64815aa",
       "version_major": 2,
       "version_minor": 0
      },
      "text/plain": [
       "VBox()"
      ]
     },
     "metadata": {},
     "output_type": "display_data"
    },
    {
     "data": {
      "application/vnd.jupyter.widget-view+json": {
       "model_id": "",
       "version_major": 2,
       "version_minor": 0
      },
      "text/plain": [
       "FloatProgress(value=0.0, bar_style='info', description='Progress:', layout=Layout(height='25px', width='50%'),…"
      ]
     },
     "metadata": {},
     "output_type": "display_data"
    },
    {
     "name": "stdout",
     "output_type": "stream",
     "text": [
      "+-----+-----------+\n",
      "|state|elite_count|\n",
      "+-----+-----------+\n",
      "|   PA|      36266|\n",
      "|   FL|      25232|\n",
      "|   LA|      19113|\n",
      "|   IN|      17751|\n",
      "|   TN|      15358|\n",
      "|   MO|      12817|\n",
      "|   AZ|      10152|\n",
      "|   NV|       8302|\n",
      "|   CA|       6974|\n",
      "|   NJ|       3838|\n",
      "+-----+-----------+\n",
      "only showing top 10 rows"
     ]
    }
   ],
   "source": [
    "user_ec = user.select(\"user_id\", \"elite\")\\\n",
    "    .filter((user.elite > 0))\n",
    "user_business = temp2.join(user_ec,[\"user_id\"])\n",
    "elite_state = user_business.groupBy(\"state\")\\\n",
    "    .agg(count(\"user_id\").alias(\"elite_count\"))\n",
    "\n",
    "Elitist_States = elite_state.sort(desc(\"elite_count\")) \n",
    "Elitist_States.show(10)\n"
   ]
  },
  {
   "cell_type": "code",
   "execution_count": 136,
   "id": "57af77b3",
   "metadata": {},
   "outputs": [
    {
     "data": {
      "application/vnd.jupyter.widget-view+json": {
       "model_id": "210fcc2540c34dff8ef96eab44587054",
       "version_major": 2,
       "version_minor": 0
      },
      "text/plain": [
       "VBox()"
      ]
     },
     "metadata": {},
     "output_type": "display_data"
    },
    {
     "data": {
      "application/vnd.jupyter.widget-view+json": {
       "model_id": "",
       "version_major": 2,
       "version_minor": 0
      },
      "text/plain": [
       "FloatProgress(value=0.0, bar_style='info', description='Progress:', layout=Layout(height='25px', width='50%'),…"
      ]
     },
     "metadata": {},
     "output_type": "display_data"
    },
    {
     "data": {
      "image/png": "[encoded data removed]",
      "text/plain": [
       "<IPython.core.display.Image object>"
      ]
     },
     "metadata": {},
     "output_type": "display_data"
    }
   ],
   "source": [
    "ElitistPanda = Elitist_States.limit(10).toPandas()\n",
    "plt.figure(figsize =(10,8))\n",
    "ElitistPanda.plot(kind='bar', x='state', color=\"darkgreen\", figsize=(10,8))\n",
    "plt.title(\"States with Highest Number of Elite Users\")\n",
    "%matplot plt"
   ]
  },
  {
   "cell_type": "code",
   "execution_count": null,
   "id": "3155e161",
   "metadata": {},
   "outputs": [],
   "source": []
  }
 ],
 "metadata": {
  "kernelspec": {
   "display_name": "PySpark",
   "language": "",
   "name": "pysparkkernel"
  },
  "language_info": {
   "codemirror_mode": {
    "name": "python",
    "version": 2
   },
   "mimetype": "text/x-python",
   "name": "pyspark",
   "pygments_lexer": "python2"
  }
 },
 "nbformat": 4,
 "nbformat_minor": 5
}
